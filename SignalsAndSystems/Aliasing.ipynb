{
 "cells": [
  {
   "cell_type": "markdown",
   "metadata": {},
   "source": [
    "# Aliasing\n",
    "\n",
    "[Mauricio de Oliveira](http://control.ucsd.edu/mauricio)\n",
    "\n",
    "*September 2019*\n",
    "\n",
    "In this notebook you will explore the phenomenom of aliasing in which frequencies higher than the Nyquist frequency, that is $1/2$ the sampling rate, appear as frequencies which are smaller than the Nyquist frequency in a sampled signal.\n",
    "\n",
    "## Load some packages"
   ]
  },
  {
   "cell_type": "code",
   "execution_count": null,
   "metadata": {
    "collapsed": true
   },
   "outputs": [],
   "source": [
    "import matplotlib.pyplot as plt\n",
    "import numpy as np\n",
    "import librosa\n",
    "import IPython.display as ipd"
   ]
  },
  {
   "cell_type": "markdown",
   "metadata": {},
   "source": [
    "Generate a sinusoidal tone at f1 = 1Hz, x1, with a duration of T = 2s sampled at fs1 = 1000Hz sampling rate. This sampling rate is significantly higher than the frequency of the tone, which will make it appear smooth. Use $\\cos$ to generate the waveform."
   ]
  },
  {
   "cell_type": "code",
   "execution_count": null,
   "metadata": {
    "collapsed": true
   },
   "outputs": [],
   "source": [
    "fs1 = 1000\n",
    "T = 2\n",
    "t_1000 = np.linspace(0, T, fs1 * T + 1)\n",
    "\n",
    "f1 = 1.0\n",
    "A1 = .8\n",
    "phi1 = np.pi*35/180\n",
    "\n",
    "x1_1000 = A1*np.cos(2*np.pi*f1*t_1000+phi1)"
   ]
  },
  {
   "cell_type": "markdown",
   "metadata": {},
   "source": [
    "Repeat with a mush smaller sampling rate of fs2 = 4Hz and compare the two sets of samples."
   ]
  },
  {
   "cell_type": "code",
   "execution_count": null,
   "metadata": {},
   "outputs": [],
   "source": [
    "fs2 = 4\n",
    "t_4 = np.linspace(0, T, fs2 * T + 1)\n",
    "\n",
    "x1_4 = A1*np.cos(2*np.pi*f1*t_4+phi1)\n",
    "\n",
    "plt.plot(t_1000, x1_1000, '-', t_4, x1_4, 'yo')\n",
    "plt.title('Sine Waves, f1 = {0}Hz, Sampling rates = {1}Hz and {2}Hz'.format(f1,fs1,fs2));\n",
    "plt.xlabel('t (s)');\n",
    "plt.ylabel('x1(t)');\n",
    "plt.grid(1)\n",
    "plt.show()"
   ]
  },
  {
   "cell_type": "markdown",
   "metadata": {},
   "source": [
    "Repeat the last two steps for a tone at f2 = 5Hz, x2. If your waveform had a nonzero phase shift, $\\phi$, then let the new tone have the same phase shift."
   ]
  },
  {
   "cell_type": "code",
   "execution_count": null,
   "metadata": {},
   "outputs": [],
   "source": [
    "f2 = 5.0\n",
    "A2 = .8\n",
    "phi2 = phi1\n",
    "\n",
    "x2_1000 = A2*np.cos(2*np.pi*f2*t_1000+phi2)\n",
    "x2_4 = A2*np.cos(2*np.pi*f2*t_4+phi2)\n",
    "\n",
    "plt.plot(t_1000, x2_1000, '-', t_4, x2_4, 'yo')\n",
    "plt.title('Sine Waves, f1 = {0}Hz, Sampling rates = {1}Hz and {2}Hz'.format(f2,fs1,fs2));\n",
    "plt.xlabel('t (s)');\n",
    "plt.ylabel('x2(t)');\n",
    "plt.grid(1)\n",
    "plt.show()"
   ]
  },
  {
   "cell_type": "markdown",
   "metadata": {},
   "source": [
    "Compare the two sets of samples."
   ]
  },
  {
   "cell_type": "code",
   "execution_count": null,
   "metadata": {},
   "outputs": [],
   "source": [
    "plt.plot(t_1000, x1_1000, '-', t_1000, x2_1000, '-', t_4, x1_4, 'yo', t_4, x2_4, 'kx')\n",
    "plt.title('Sampled Sine Waves, f1 = {0}Hz, and alias, f2 = {1}Hz, Sampling rates = {2}Hz and {3}Hz'.format(f1,f2,fs1,fs2));\n",
    "plt.xlabel('t (s)');\n",
    "plt.ylabel('x1(t), x2(t)');\n",
    "plt.grid(1)\n",
    "plt.show()"
   ]
  },
  {
   "cell_type": "markdown",
   "metadata": {},
   "source": [
    "Did you notice that the samples of the two tones at fs2 = 4Hz are exactly the same even though the samples of the tones at fs1 = 1000Hz are very different?\n",
    "\n",
    "This is aliasing at work: f1 = 1Hz and f2 = 5Hz are *aliases* because f2 = f1 + fs2 = 1Hz + 4Hz = 5Hz.\n",
    "\n",
    "Only the low frequency tone, 1Hz, will appear if a continuous signal is reconstructed from on these samples (see SignalReconstruction notebook)."
   ]
  },
  {
   "cell_type": "markdown",
   "metadata": {},
   "source": [
    "**Exercise:** Repeat the above experiments for f2 = 3Hz. You will have to use $-\\phi$ as the phase shift for the alias. Can you explain why?"
   ]
  },
  {
   "cell_type": "markdown",
   "metadata": {},
   "source": [
    "Let's now hear the aliased tones.\n",
    "\n",
    "For that we will increase the frequencies by a factor of a thousand.\n",
    "\n",
    "First sample at 16kHz to hear both tones. "
   ]
  },
  {
   "cell_type": "code",
   "execution_count": null,
   "metadata": {
    "collapsed": true
   },
   "outputs": [],
   "source": [
    "T = 2.0\n",
    "\n",
    "fs = 16000\n",
    "t = np.arange(0., T, 1/fs)\n",
    "\n",
    "f1 = 1000\n",
    "A1 = .8\n",
    "phi1 = 0\n",
    "\n",
    "f2 = 5000\n",
    "A2 = .8\n",
    "phi2 = 0\n",
    "\n",
    "x1 = A1*np.sin(2*np.pi*f1*t+phi1)\n",
    "x2 = A2*np.sin(2*np.pi*f2*t+phi2)"
   ]
  },
  {
   "cell_type": "markdown",
   "metadata": {},
   "source": [
    "At 16kHz the two tones are very distinct:"
   ]
  },
  {
   "cell_type": "code",
   "execution_count": null,
   "metadata": {},
   "outputs": [],
   "source": [
    "plt.plot(t, x1-1, '-o', t, 1+x2, '-o')\n",
    "plt.title('Sine Waves, f1 = {0}Hz, f2 = {1}Hz, Sampling Rate = {2}Hz'.format(f1,f2,fs));\n",
    "plt.xlabel('t (s)');\n",
    "plt.ylabel('x1(t) and x2(t)');\n",
    "plt.xlim(1,1.005)\n",
    "plt.grid(1)\n",
    "plt.show()"
   ]
  },
  {
   "cell_type": "markdown",
   "metadata": {},
   "source": [
    "and so are their sounds"
   ]
  },
  {
   "cell_type": "code",
   "execution_count": null,
   "metadata": {},
   "outputs": [],
   "source": [
    "ipd.Audio(x1, rate=fs)"
   ]
  },
  {
   "cell_type": "code",
   "execution_count": null,
   "metadata": {
    "scrolled": false
   },
   "outputs": [],
   "source": [
    "ipd.Audio(x2, rate=fs)"
   ]
  },
  {
   "cell_type": "markdown",
   "metadata": {},
   "source": [
    "Repeat at 4kHz sampling rate. "
   ]
  },
  {
   "cell_type": "code",
   "execution_count": null,
   "metadata": {
    "collapsed": true
   },
   "outputs": [],
   "source": [
    "T = 2.0\n",
    "\n",
    "fs = 4000\n",
    "t = np.arange(0., T, 1/fs)\n",
    "\n",
    "f1 = 1000\n",
    "A1 = .8\n",
    "phi1 = 0\n",
    "\n",
    "f2 = 5000\n",
    "A2 = .8\n",
    "phi2 = 0\n",
    "\n",
    "x1 = A1*np.sin(2*np.pi*f1*t+phi1)\n",
    "x2 = A2*np.sin(2*np.pi*f2*t+phi2)"
   ]
  },
  {
   "cell_type": "markdown",
   "metadata": {},
   "source": [
    "The plots of their samples are now identical:"
   ]
  },
  {
   "cell_type": "code",
   "execution_count": null,
   "metadata": {},
   "outputs": [],
   "source": [
    "plt.plot(t, x1-1, '-o', t, 1+x2, '-o')\n",
    "plt.title('Sine Waves, f1 = {0}Hz, f2 = {1}Hz, Sampling Rate = {2}Hz'.format(f1,f2,fs));\n",
    "plt.xlabel('t (s)');\n",
    "plt.ylabel('x1(t) and x2(t)');\n",
    "plt.xlim(1,1.02)\n",
    "plt.grid(1)\n",
    "plt.show()"
   ]
  },
  {
   "cell_type": "markdown",
   "metadata": {},
   "source": [
    "and so are their sounds"
   ]
  },
  {
   "cell_type": "code",
   "execution_count": null,
   "metadata": {},
   "outputs": [],
   "source": [
    "ipd.Audio(x1, rate=fs)"
   ]
  },
  {
   "cell_type": "code",
   "execution_count": null,
   "metadata": {
    "scrolled": false
   },
   "outputs": [],
   "source": [
    "ipd.Audio(x2, rate=fs)"
   ]
  },
  {
   "cell_type": "markdown",
   "metadata": {},
   "source": [
    "## Aliasing of Rich Signals"
   ]
  },
  {
   "cell_type": "markdown",
   "metadata": {},
   "source": [
    "If a signal is rich in higher frequency harmonics aliasing is specially problematic. When these signals are sampled their harmonics suffer from aliasing which cause the reconstructed signals to be heavily distorted.\n",
    "\n",
    "Consider for example a triangular waveform of frequency f1 = 2Hz sampled at fs1 = 1000Hz and fs2 = 4Hz:"
   ]
  },
  {
   "cell_type": "code",
   "execution_count": null,
   "metadata": {},
   "outputs": [],
   "source": [
    "N = 2**16\n",
    "f2 = 2\n",
    "x2_1000 = 2*((N*(.75-f2*t_1000) % N)/N - .5)\n",
    "x2_4 = 2*((N*(.75-f2*t_4) % N)/N - .5)\n",
    "\n",
    "plt.plot(t_1000, x2_1000, '-', t_4, x2_4, 'o')\n",
    "plt.title('Sawtooth Wave, f1 = {0} Hz, Sampling rates fs1 = {1}Hz and '.format(f2,fs2));\n",
    "plt.xlabel('t (s)');\n",
    "plt.ylabel('x(t), y(t)');\n",
    "plt.grid(1)\n",
    "plt.show()"
   ]
  },
  {
   "cell_type": "markdown",
   "metadata": {},
   "source": [
    "Because f2 is exactly the Nyquist frequency, all higher order harmonics will be equal to a multiple of the sampling rate or a multiple of the Nyquist frequency. In either case, their aliases are the zero frequency and the only harmonic component that should remain after sampling is the fundamental at 2Hz. In other words, after sampling, this rich signal is reduced to a pure sinusoidal tone!\n",
    "\n",
    "Indeed, the samples of the rich sawtooth signal coincide *exactly* with samples of a pure sinusoidal tone:"
   ]
  },
  {
   "cell_type": "code",
   "execution_count": null,
   "metadata": {},
   "outputs": [],
   "source": [
    "f3 = 2\n",
    "A3 = 1\n",
    "phi3 = np.pi*60/180\n",
    "\n",
    "x3_1000 = A3*np.cos(2*np.pi*f3*t_1000+phi3)\n",
    "x3_4 = A3*np.cos(2*np.pi*f3*t_4+phi3)\n",
    "\n",
    "plt.plot(t_1000, x2_1000, '-', t_1000, x3_1000, '-', t_4, x2_4, 'yo', t_4, x3_4, 'kx')\n",
    "plt.title('Sawtooth Wave, f1 = {0} Hz, Sampling rates fs1 = {1}Hz and '.format(f2,fs2));\n",
    "plt.xlabel('t (s)');\n",
    "plt.ylabel('x(t), y(t)');\n",
    "plt.grid(1)\n",
    "plt.show()"
   ]
  },
  {
   "cell_type": "markdown",
   "metadata": {},
   "source": [
    "Let's hear what that sounds like..."
   ]
  },
  {
   "cell_type": "code",
   "execution_count": null,
   "metadata": {},
   "outputs": [],
   "source": [
    "T = 2.0\n",
    "\n",
    "fs1 = 44000\n",
    "t1 = np.arange(0., T, 1/fs1)\n",
    "\n",
    "fs2 = 4400\n",
    "t2 = np.arange(0., T, 1/fs2)\n",
    "\n",
    "N = 2**16\n",
    "f2 = 2200\n",
    "x1 = 2*((N*(.75-f2*t1) % N)/N - .5)\n",
    "x2 = 2*((N*(.75-f2*t2) % N)/N - .5)\n",
    "\n",
    "plt.plot(t1, x1, '-', t2, x2, 'o')\n",
    "plt.title('Sawtooth Wave, f1 = {0} Hz, Sampling rates fs1 = {1}Hz and '.format(f2,fs2));\n",
    "plt.xlabel('t (s)');\n",
    "plt.ylabel('x(t), y(t)');\n",
    "plt.xlim(1,1.005)\n",
    "plt.grid(1)\n",
    "plt.show()"
   ]
  },
  {
   "cell_type": "code",
   "execution_count": null,
   "metadata": {},
   "outputs": [],
   "source": [
    "ipd.Audio(x1, rate=fs1)"
   ]
  },
  {
   "cell_type": "code",
   "execution_count": null,
   "metadata": {},
   "outputs": [],
   "source": [
    "ipd.Audio(x2, rate=fs2)"
   ]
  },
  {
   "cell_type": "markdown",
   "metadata": {},
   "source": [
    "## Subsampling and aliasing\n",
    "\n",
    "Let's us repeat this exercise with a music file.\n",
    "\n",
    "Upload your favorite song by dragging it and dropping on the notebook file manager, then change the name below to reflect the filename of the song. We will only load 20s of the song to make things faster."
   ]
  },
  {
   "cell_type": "code",
   "execution_count": null,
   "metadata": {},
   "outputs": [],
   "source": [
    "x1, fs = librosa.load('Stevie Wonder Superstition.mp3', mono=False, offset=20, duration=20)"
   ]
  },
  {
   "cell_type": "code",
   "execution_count": null,
   "metadata": {},
   "outputs": [],
   "source": [
    "plt.plot(x1[:,11*fs:11*fs+round(.1* fs)].T, '.')\n",
    "plt.title('Sampling Rate = {0}Hz, Left and right channels'.format(fs));\n",
    "plt.xlabel('t (s)');\n",
    "plt.ylabel('x1(t)');\n",
    "plt.grid(1)\n",
    "plt.show()"
   ]
  },
  {
   "cell_type": "markdown",
   "metadata": {},
   "source": [
    "Play the song"
   ]
  },
  {
   "cell_type": "code",
   "execution_count": null,
   "metadata": {},
   "outputs": [],
   "source": [
    "ipd.Audio(x1, rate=fs)"
   ]
  },
  {
   "cell_type": "markdown",
   "metadata": {},
   "source": [
    "We will now construct two signals at a smaller sampling rate. We will choose this sampling by dividing the original sampling rate by an integer factor $N$.\n",
    "\n",
    "The first signal is simply the original in which only one out of $N$ samples is kept.\n",
    "\n",
    "The second signal is obtained by librosa's resample routine, which applies filters to the signal to prevent the effects of aliasing."
   ]
  },
  {
   "cell_type": "code",
   "execution_count": null,
   "metadata": {},
   "outputs": [],
   "source": [
    "N=7\n",
    "fss = round(fs/N)\n",
    "x1ss1 = x1[:,::N]\n",
    "x1ss2 = librosa.resample(x1, fs, fss)"
   ]
  },
  {
   "cell_type": "code",
   "execution_count": null,
   "metadata": {
    "scrolled": true
   },
   "outputs": [],
   "source": [
    "plt.plot(x1ss1[:,11*fss:11*fss+round(.1* fss)].T, '.', x1ss2[:,11*fss:11*fss+round(.1* fss)].T, '.')\n",
    "plt.title('Sampling Rate = {0}Hz, Left and right channels'.format(fss));\n",
    "plt.xlabel('t (s)');\n",
    "plt.ylabel('x1(t)');\n",
    "plt.grid(1)\n",
    "plt.show()"
   ]
  },
  {
   "cell_type": "markdown",
   "metadata": {},
   "source": [
    "Play the two sub-sampled signals and compare their quality. Besides the inherent *lower quality* of the audio due to the smaller sampling rate, can you *hear* the aliasing?"
   ]
  },
  {
   "cell_type": "code",
   "execution_count": null,
   "metadata": {
    "collapsed": true
   },
   "outputs": [],
   "source": [
    "ipd.Audio(x1ss1, rate=fss)"
   ]
  },
  {
   "cell_type": "code",
   "execution_count": null,
   "metadata": {
    "collapsed": true
   },
   "outputs": [],
   "source": [
    "ipd.Audio(x1ss2, rate=fss)"
   ]
  }
 ],
 "metadata": {
  "kernelspec": {
   "display_name": "Python 3",
   "language": "python",
   "name": "python3"
  },
  "language_info": {
   "codemirror_mode": {
    "name": "ipython",
    "version": 3
   },
   "file_extension": ".py",
   "mimetype": "text/x-python",
   "name": "python",
   "nbconvert_exporter": "python",
   "pygments_lexer": "ipython3",
   "version": "3.6.3"
  }
 },
 "nbformat": 4,
 "nbformat_minor": 1
}
