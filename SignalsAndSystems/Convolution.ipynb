{
 "cells": [
  {
   "cell_type": "markdown",
   "metadata": {},
   "source": [
    "# Convolution\n",
    "\n",
    "[Mauricio de Oliveira](http://control.ucsd.edu/mauricio)\n",
    "\n",
    "*September 2019*\n",
    "\n",
    "In this notebook you will work with the impulse response of linear time-invariant systems.\n",
    "\n",
    "## Load some packages"
   ]
  },
  {
   "cell_type": "code",
   "execution_count": 1,
   "metadata": {},
   "outputs": [],
   "source": [
    "#%matplotlib inline\n",
    "import matplotlib.pyplot as plt\n",
    "import numpy as np\n",
    "from ipywidgets import interact, fixed\n",
    "import ipywidgets as widgets"
   ]
  },
  {
   "cell_type": "markdown",
   "metadata": {},
   "source": [
    "## Convolution\n",
    "\n",
    "Start by constructing the signal\n",
    "$$\n",
    "g[n] = \\alpha^n, \\quad n \\geq 0, \\quad \\alpha = -0.8\n",
    "$$"
   ]
  },
  {
   "cell_type": "code",
   "execution_count": 2,
   "metadata": {},
   "outputs": [],
   "source": [
    "alpha = -0.8\n",
    "def gg(n):\n",
    "    return 0. if n < 0 else alpha ** n\n",
    "G = np.vectorize(gg)"
   ]
  },
  {
   "cell_type": "code",
   "execution_count": 3,
   "metadata": {},
   "outputs": [],
   "source": [
    "N=10\n",
    "alpha = -0.8\n",
    "\n",
    "n = np.arange(-N,N)\n",
    "g = G(n)"
   ]
  },
  {
   "cell_type": "markdown",
   "metadata": {},
   "source": [
    "Plot the signal"
   ]
  },
  {
   "cell_type": "code",
   "execution_count": 4,
   "metadata": {},
   "outputs": [
    {
     "data": {
      "image/png": "[encoded data removed]",
      "text/plain": [
       "<Figure size 432x288 with 1 Axes>"
      ]
     },
     "metadata": {},
     "output_type": "display_data"
    }
   ],
   "source": [
    "plt.stem(n, g, use_line_collection=True)\n",
    "plt.title('Signal g[n]');\n",
    "plt.xlabel('n');\n",
    "plt.ylabel('g[n]');\n",
    "plt.xlim(-N,N);"
   ]
  },
  {
   "cell_type": "markdown",
   "metadata": {},
   "source": [
    "Now consider the step\n",
    "$$\n",
    "u[n] = 1, \\quad n \\geq 0\n",
    "$$"
   ]
  },
  {
   "cell_type": "code",
   "execution_count": 5,
   "metadata": {},
   "outputs": [],
   "source": [
    "def ss(n):\n",
    "    return 0. if n < 0 else 1.\n",
    "step = np.vectorize(ss)\n",
    "\n",
    "u = step(n)"
   ]
  },
  {
   "cell_type": "markdown",
   "metadata": {},
   "source": [
    "and its plot"
   ]
  },
  {
   "cell_type": "code",
   "execution_count": 6,
   "metadata": {},
   "outputs": [
    {
     "data": {
      "image/png": "[encoded data removed]",
      "text/plain": [
       "<Figure size 432x288 with 1 Axes>"
      ]
     },
     "metadata": {},
     "output_type": "display_data"
    }
   ],
   "source": [
    "plt.stem(n, u, use_line_collection=True)\n",
    "plt.title('Signal u[n]');\n",
    "plt.xlabel('n');\n",
    "plt.ylabel('u[n]');\n",
    "plt.xlim(-N,N);"
   ]
  },
  {
   "cell_type": "markdown",
   "metadata": {},
   "source": [
    "Their convolution is the signal\n",
    "$$\n",
    "y[n] = \\sum_{k = -\\infty}^{\\infty} g[k] \\, u[n - k] = \\sum_{k = -\\infty}^{\\infty} g[n - k] \\, u[k]\n",
    "$$\n",
    "Note that because both $u$ and $g$ are zero for $n < 0$ that the above sums can be simplified to\n",
    "$$\n",
    "y[n] = \\sum_{k = 0}^{n} g[k] \\, u[n - k] = \\sum_{k = 0}^{n} g[n - k] \\, u[k]\n",
    "$$\n",
    "\n",
    "Because we already have a vector $n$, it is easier to program the function\n",
    "$$\n",
    "y[k] = \\sum_{n = 0}^{k} g[n] \\, u[k - n] = \\sum_{n = 0}^{k} g[k - n] \\, u[n]\n",
    "$$"
   ]
  },
  {
   "cell_type": "code",
   "execution_count": 7,
   "metadata": {},
   "outputs": [],
   "source": [
    "def conv(g,u):\n",
    "    return np.array([(g(n)*u(k-n)).sum() for k in n])\n",
    "\n",
    "y = conv(G, step)"
   ]
  },
  {
   "cell_type": "markdown",
   "metadata": {},
   "source": [
    "which we can plot"
   ]
  },
  {
   "cell_type": "code",
   "execution_count": 8,
   "metadata": {},
   "outputs": [
    {
     "data": {
      "image/png": "[encoded data removed]",
      "text/plain": [
       "<Figure size 432x288 with 1 Axes>"
      ]
     },
     "metadata": {},
     "output_type": "display_data"
    }
   ],
   "source": [
    "plt.stem(n, y, use_line_collection=True)\n",
    "plt.title('Signal y[n]');\n",
    "plt.xlabel('n');\n",
    "plt.ylabel('y[n]');\n",
    "plt.xlim(-N,N);"
   ]
  },
  {
   "cell_type": "markdown",
   "metadata": {},
   "source": [
    "## Interactive convolution\n",
    "\n",
    "The following function calculates and plots\n",
    "$$\n",
    "g[n], \\quad u[k - n], \\quad \\text{and the product} \\quad g[n] \\, u[k - n]\n",
    "$$\n",
    "for each given $k$:"
   ]
  },
  {
   "cell_type": "code",
   "execution_count": 9,
   "metadata": {},
   "outputs": [],
   "source": [
    "def convk(g, u, k):\n",
    "    fig, axs = plt.subplots(4, sharex=True, figsize=(10,10), gridspec_kw={'hspace': .3})\n",
    "    axs[0].stem(n, g(n), use_line_collection=True)\n",
    "    axs[0].set_ylabel('g[k]')\n",
    "    \n",
    "    axs[1].stem(n, u(k-n), use_line_collection=True)\n",
    "    axs[1].set_ylabel('u[n-k]')\n",
    "    \n",
    "    axs[2].stem(n, g(n)*u(k-n), use_line_collection=True)\n",
    "    axs[2].set_ylabel('g[k] u[n-k]')\n",
    "    \n",
    "    axs[2].set_xlim(-N,N);\n",
    "    axs[2].set_ylim(-1.1,1.1);\n",
    "    \n",
    "    y = conv(G, step)\n",
    "    axs[3].stem(n, y, use_line_collection=True)\n",
    "    markerline, stemlines, baseline = axs[3].stem([k], [y[k+N]], 'r', markerfmt='ro', use_line_collection=True)\n",
    "    plt.setp(stemlines, 'linewidth', 4)\n",
    "    plt.setp(markerline, 'markersize', 12)\n",
    "    axs[3].set_ylabel('g[k] * u[k]')\n",
    "    \n",
    "    axs[0].set_title('y[{}] = {:.2f}'.format(k, np.sum(g(n)*u(k-n))))\n",
    "    plt.show()"
   ]
  },
  {
   "cell_type": "markdown",
   "metadata": {},
   "source": [
    "Its sum is the value of $y[k]$ at time $k$:"
   ]
  },
  {
   "cell_type": "code",
   "execution_count": 10,
   "metadata": {},
   "outputs": [
    {
     "data": {
      "image/png": "[encoded data removed]",
      "text/plain": [
       "<Figure size 720x720 with 4 Axes>"
      ]
     },
     "metadata": {},
     "output_type": "display_data"
    }
   ],
   "source": [
    "k = 2\n",
    "convk(G, step, k)"
   ]
  },
  {
   "cell_type": "markdown",
   "metadata": {},
   "source": [
    "We can do it interactively:"
   ]
  },
  {
   "cell_type": "code",
   "execution_count": 11,
   "metadata": {},
   "outputs": [
    {
     "data": {
      "application/vnd.jupyter.widget-view+json": {
       "model_id": "2059fe8a4c1347a1b54b39c83c311c63"
      }
     },
     "metadata": {},
     "output_type": "display_data"
    },
    {
     "data": {
      "text/plain": [
       "<function __main__.convk>"
      ]
     },
     "execution_count": 11,
     "metadata": {},
     "output_type": "execute_result"
    }
   ],
   "source": [
    "interact(convk, g=fixed(G), u=fixed(step), k = widgets.IntSlider(min=-10, max=10, step=1, value=0))"
   ]
  }
 ],
 "metadata": {
  "kernelspec": {
   "display_name": "Python 3",
   "language": "python",
   "name": "python3"
  },
  "language_info": {
   "codemirror_mode": {
    "name": "ipython",
    "version": 3
   },
   "file_extension": ".py",
   "mimetype": "text/x-python",
   "name": "python",
   "nbconvert_exporter": "python",
   "pygments_lexer": "ipython3",
   "version": "3.6.8"
  }
 },
 "nbformat": 4,
 "nbformat_minor": 1
}
