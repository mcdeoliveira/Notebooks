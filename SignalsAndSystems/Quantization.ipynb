{
 "cells": [
  {
   "cell_type": "markdown",
   "metadata": {},
   "source": [
    "# Quantization\n",
    "\n",
    "[Mauricio de Oliveira](http://control.ucsd.edu/mauricio)\n",
    "\n",
    "*September 2019*\n",
    "\n",
    "In this notebook you will explore how quantization affects audio files.\n",
    "\n",
    "## Load some packages"
   ]
  },
  {
   "cell_type": "code",
   "execution_count": null,
   "metadata": {
    "collapsed": true
   },
   "outputs": [],
   "source": [
    "%matplotlib inline\n",
    "import matplotlib.pyplot as plt\n",
    "import numpy as np\n",
    "import math\n",
    "import IPython.display as ipd\n",
    "import librosa"
   ]
  },
  {
   "cell_type": "markdown",
   "metadata": {},
   "source": [
    "Let's start by generating a time base vector for T = 10s waveforms at a fs = 8000Hz sampling rate."
   ]
  },
  {
   "cell_type": "code",
   "execution_count": null,
   "metadata": {
    "collapsed": true
   },
   "outputs": [],
   "source": [
    "T = 10.0\n",
    "\n",
    "fs = 8000\n",
    "t = np.arange(0, T, 1/fs)"
   ]
  },
  {
   "cell_type": "markdown",
   "metadata": {},
   "source": [
    "We will use these vectors to generate one tone at f = 440 Hz."
   ]
  },
  {
   "cell_type": "code",
   "execution_count": null,
   "metadata": {
    "collapsed": true
   },
   "outputs": [],
   "source": [
    "f1 = 440.0\n",
    "A1 = 1\n",
    "phi1 = 0\n",
    "\n",
    "x1 = A1*np.sin(2*np.pi*f1*t+phi1)\n",
    "\n",
    "plt.plot(t, x1, '-o')\n",
    "plt.title('Sine Wave, f1 = {0}Hz, Sampling Rate = {1}Hz'.format(f1,fs));\n",
    "plt.xlabel('t (s)');\n",
    "plt.ylabel('x1(t)');\n",
    "plt.xlim(1,1.01)\n",
    "plt.grid(1)"
   ]
  },
  {
   "cell_type": "markdown",
   "metadata": {},
   "source": [
    "The function sin produces floating points which suffer less from quantization, so as to *appear* continuous in the above plot.\n",
    "\n",
    "We will simulate the effect of quantization by rounding the real numbers to the nearest integer and significantly lowering the number of quantization levels."
   ]
  },
  {
   "cell_type": "code",
   "execution_count": null,
   "metadata": {
    "collapsed": true
   },
   "outputs": [],
   "source": [
    "nbits = 2\n",
    "N = 2 ** nbits\n",
    "M = N - 1\n",
    "x2 = 2*np.rint((M**2+1)*(1+x1)/2/M)/M -1\n",
    "\n",
    "plt.plot(t, x1, 'o-', t, x2, 'o')\n",
    "plt.title('Sine Wave, f1 = {0}Hz, Sampling Rate = {1}Hz, {2} bits = {3} levels'.format(f1,fs,nbits,N));\n",
    "plt.xlabel('t (s)');\n",
    "plt.ylabel('x1(t)');\n",
    "plt.xlim(1,1.01)\n",
    "plt.grid(1)"
   ]
  },
  {
   "cell_type": "markdown",
   "metadata": {},
   "source": [
    "With more bits we get better quality."
   ]
  },
  {
   "cell_type": "code",
   "execution_count": null,
   "metadata": {
    "collapsed": true
   },
   "outputs": [],
   "source": [
    "nbits = 4\n",
    "N = 2 ** nbits\n",
    "M = N - 1\n",
    "x3 = 2*np.rint((M**2+1)*(1+x1)/2/M)/M -1\n",
    "\n",
    "plt.plot(t, x1, 'o-', t, x3, '-o')\n",
    "plt.title('Sine Wave, f1 = {0}Hz, Sampling Rate = {1}Hz, {2} bits = {3} levels'.format(f1,fs,nbits,N));\n",
    "plt.xlabel('t (s)');\n",
    "plt.ylabel('x1(t)');\n",
    "plt.xlim(1,1.01)\n",
    "plt.grid(1)"
   ]
  },
  {
   "cell_type": "markdown",
   "metadata": {},
   "source": [
    "Let's us repeat this exercise with a music file.\n",
    "\n",
    "Upload your favorite song by dragging it and dropping on the notebook file manager, then change the name below to reflect the filename of the song. We will only load 20s of the song to make things faster."
   ]
  },
  {
   "cell_type": "code",
   "execution_count": null,
   "metadata": {
    "collapsed": true
   },
   "outputs": [],
   "source": [
    "x1, fs = librosa.load('Stevie Wonder Superstition.wav', mono=False, offset=20, duration=20)\n",
    "x1.shape, fs"
   ]
  },
  {
   "cell_type": "markdown",
   "metadata": {},
   "source": [
    "Play the file"
   ]
  },
  {
   "cell_type": "code",
   "execution_count": null,
   "metadata": {
    "collapsed": true
   },
   "outputs": [],
   "source": [
    "ipd.Audio(x1, rate=fs)"
   ]
  },
  {
   "cell_type": "code",
   "execution_count": null,
   "metadata": {
    "collapsed": true
   },
   "outputs": [],
   "source": [
    "plt.plot(x1[:,11*fs:11*fs+round(.1* fs)].T, '.')\n",
    "plt.title('Sampling Rate = {0}Hz, Left and right channels'.format(fs));\n",
    "plt.xlabel('t (s)');\n",
    "plt.ylabel('x1(t)');\n",
    "plt.grid(1)"
   ]
  },
  {
   "cell_type": "markdown",
   "metadata": {},
   "source": [
    "We will quantize to $4$ bits, or $2^4 = 16$ levels."
   ]
  },
  {
   "cell_type": "code",
   "execution_count": null,
   "metadata": {
    "collapsed": true
   },
   "outputs": [],
   "source": [
    "nbits = 4\n",
    "N = 2 ** nbits\n",
    "M = N - 1\n",
    "x2 = 2*np.rint((M**2+1)*(1+x1)/2/M)/M -1\n",
    "\n",
    "plt.plot(x1[:,11*fs:11*fs+round(.1* fs)].T, '.')\n",
    "plt.plot(x2[:,11*fs:11*fs+round(.1* fs)].T, 'o')\n",
    "plt.title('Sampling Rate = {0}Hz, {1} bits = {2} levels'.format(fs,nbits,N));\n",
    "plt.xlabel('t (s)');\n",
    "plt.ylabel('x1(t)');\n",
    "plt.grid(1)"
   ]
  },
  {
   "cell_type": "markdown",
   "metadata": {},
   "source": [
    "Play the quantized file"
   ]
  },
  {
   "cell_type": "code",
   "execution_count": null,
   "metadata": {
    "collapsed": true
   },
   "outputs": [],
   "source": [
    "ipd.Audio(x2, rate=fs)"
   ]
  },
  {
   "cell_type": "markdown",
   "metadata": {},
   "source": [
    "Do you hear the effect of quantization on the music? What about on the voice?"
   ]
  }
 ],
 "metadata": {
  "kernelspec": {
   "display_name": "Python 3",
   "language": "python",
   "name": "python3"
  },
  "language_info": {
   "codemirror_mode": {
    "name": "ipython",
    "version": 3
   },
   "file_extension": ".py",
   "mimetype": "text/x-python",
   "name": "python",
   "nbconvert_exporter": "python",
   "pygments_lexer": "ipython3",
   "version": "3.6.3"
  }
 },
 "nbformat": 4,
 "nbformat_minor": 1
}
