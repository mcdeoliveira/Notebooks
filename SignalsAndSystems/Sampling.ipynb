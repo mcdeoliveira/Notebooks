{
 "cells": [
  {
   "cell_type": "markdown",
   "metadata": {},
   "source": [
    "# Sampling"
   ]
  },
  {
   "cell_type": "markdown",
   "metadata": {},
   "source": [
    "In this notebook you will generate waveforms and export to audio files.\n",
    "We will explore different sampling rates as well as mono versus stereo files."
   ]
  },
  {
   "cell_type": "code",
   "execution_count": 17,
   "metadata": {
    "collapsed": false
   },
   "outputs": [],
   "source": [
    "%matplotlib inline\n",
    "import matplotlib.pyplot as plt\n",
    "import numpy as np\n",
    "import math\n",
    "import scipy.io.wavfile as wav"
   ]
  },
  {
   "cell_type": "markdown",
   "metadata": {},
   "source": [
    "Let's start by generating a time base vector for T = 10s waveforms. We will do that at two sampling rates: fs1 = 8000Hz, t1, and fs2 = 16000Hz, t2."
   ]
  },
  {
   "cell_type": "code",
   "execution_count": 18,
   "metadata": {
    "collapsed": false
   },
   "outputs": [],
   "source": [
    "T = 10.0\n",
    "\n",
    "fs1 = 8000\n",
    "t_8000 = np.linspace(0, T, fs1*T)\n",
    "\n",
    "fs2 = 16000\n",
    "t_16000 = np.linspace(0, T, fs2*T)"
   ]
  },
  {
   "cell_type": "markdown",
   "metadata": {},
   "source": [
    "We will use these vectors to generate two tones, one at f1 = 440 Hz, x1, and another at f2 = 446 Hz, x2."
   ]
  },
  {
   "cell_type": "code",
   "execution_count": 19,
   "metadata": {
    "collapsed": false
   },
   "outputs": [],
   "source": [
    "f1 = 440.0\n",
    "A1 = .8\n",
    "phi1 = 0\n",
    "\n",
    "f2 = 446\n",
    "A2 = .8\n",
    "phi2 = np.pi*90/180"
   ]
  },
  {
   "cell_type": "markdown",
   "metadata": {},
   "source": [
    "First at fs = 8000Hz"
   ]
  },
  {
   "cell_type": "code",
   "execution_count": null,
   "metadata": {
    "collapsed": false
   },
   "outputs": [],
   "source": [
    "x1_8000 = A1*np.sin(2*np.pi*f1*t_8000+phi1)\n",
    "x2_8000 = A2*np.sin(2*np.pi*f2*t_8000+phi2)"
   ]
  },
  {
   "cell_type": "markdown",
   "metadata": {},
   "source": [
    "Then at fs = 16000Hz"
   ]
  },
  {
   "cell_type": "code",
   "execution_count": null,
   "metadata": {
    "collapsed": false
   },
   "outputs": [],
   "source": [
    "x1_16000 = A1*np.sin(2*np.pi*f1*t_16000+phi1)\n",
    "x2_16000 = A2*np.sin(2*np.pi*f2*t_16000+phi2)"
   ]
  },
  {
   "cell_type": "markdown",
   "metadata": {},
   "source": [
    "Let's plot to visualize the waveforms at 8000Hz"
   ]
  },
  {
   "cell_type": "code",
   "execution_count": null,
   "metadata": {
    "collapsed": false
   },
   "outputs": [],
   "source": [
    "plt.plot(t_8000, x1_8000, '-o', t_8000, x2_8000, '-o')\n",
    "plt.title('Sine Waves, f1 = {0}Hz, f2 = {1}Hz, Sampling Rate = {2}Hz'.format(f1,f2,fs1));\n",
    "plt.xlabel('t (s)');\n",
    "plt.ylabel('x1(t) and x2(t)');\n",
    "plt.xlim(1,1.01)\n",
    "plt.grid(1)"
   ]
  },
  {
   "cell_type": "markdown",
   "metadata": {},
   "source": [
    "Compare the waveforms sampled at 8000Hz versus 16000Hz"
   ]
  },
  {
   "cell_type": "code",
   "execution_count": null,
   "metadata": {
    "collapsed": false
   },
   "outputs": [],
   "source": [
    "plt.plot(t_8000, x1_8000, '-o', t_16000, x2_16000, '-o')\n",
    "plt.title('Sine Waves, f1 = {0}Hz, Sampling Rate = {1}Hz, f2 = {2}Hz, Sampling Rate = {3}Hz'.format(f1,fs1,f2,fs2));\n",
    "plt.xlabel('t (s)');\n",
    "plt.ylabel('x1(t) and x2(t)');\n",
    "plt.xlim(1,1.01)\n",
    "plt.grid(1)"
   ]
  },
  {
   "cell_type": "markdown",
   "metadata": {},
   "source": [
    "We will save these waveforms as wav audio files. Use Audacity to play these files."
   ]
  },
  {
   "cell_type": "markdown",
   "metadata": {},
   "source": [
    "First at fs = 8000Hz"
   ]
  },
  {
   "cell_type": "code",
   "execution_count": null,
   "metadata": {
    "collapsed": false
   },
   "outputs": [],
   "source": [
    "wav.write('tone_440_8000.wav', fs1, x1_8000)\n",
    "wav.write('tone_446_8000.wav', fs1, x2_8000)"
   ]
  },
  {
   "cell_type": "markdown",
   "metadata": {},
   "source": [
    "Then at fs = 16000Hz"
   ]
  },
  {
   "cell_type": "code",
   "execution_count": null,
   "metadata": {
    "collapsed": false
   },
   "outputs": [],
   "source": [
    "wav.write('tone_440_16000.wav', fs2, x1_16000)\n",
    "wav.write('tone_446_16000.wav', fs2, x2_16000)"
   ]
  },
  {
   "cell_type": "markdown",
   "metadata": {},
   "source": [
    "What if we make a mistake on the sampling rates?"
   ]
  },
  {
   "cell_type": "code",
   "execution_count": null,
   "metadata": {
    "collapsed": false
   },
   "outputs": [],
   "source": [
    "wav.write('tone_440_16000w.wav', fs2, x1_8000)\n",
    "wav.write('tone_440_8000w.wav', fs1, x2_16000)"
   ]
  },
  {
   "cell_type": "markdown",
   "metadata": {},
   "source": [
    "## Combining tones"
   ]
  },
  {
   "cell_type": "markdown",
   "metadata": {},
   "source": [
    "Let's us first combine the two tones by summing them up. In this part we will work only with signals at fs = 8000Hz"
   ]
  },
  {
   "cell_type": "code",
   "execution_count": null,
   "metadata": {
    "collapsed": false
   },
   "outputs": [],
   "source": [
    "x12_8000 = (x1_8000 + x2_8000)/2"
   ]
  },
  {
   "cell_type": "code",
   "execution_count": null,
   "metadata": {
    "collapsed": false
   },
   "outputs": [],
   "source": [
    "plt.plot(t_8000, x12_8000, '-')\n",
    "plt.title('Combined Sine Waves, f1 = {0}Hz, f2 = {1}Hz, Sampling Rate = {2}Hz'.format(f1,f2,fs1));\n",
    "plt.xlabel('t (s)');\n",
    "plt.ylabel('x1(t) and x2(t)');\n",
    "plt.xlim(0.041,0.041+1./6)\n",
    "plt.grid(1)"
   ]
  },
  {
   "cell_type": "markdown",
   "metadata": {},
   "source": [
    "Do you see the beat?"
   ]
  },
  {
   "cell_type": "code",
   "execution_count": null,
   "metadata": {
    "collapsed": false
   },
   "outputs": [],
   "source": [
    "wav.write('tone_440_plus_446.wav', fs1, x12_8000)"
   ]
  },
  {
   "cell_type": "markdown",
   "metadata": {},
   "source": [
    "Let's us now combine the two tones by placing each of them in one channel of a stereo signal."
   ]
  },
  {
   "cell_type": "code",
   "execution_count": null,
   "metadata": {
    "collapsed": false
   },
   "outputs": [],
   "source": [
    "x12_8000s = np.vstack((x1_8000,x2_8000)).transpose()"
   ]
  },
  {
   "cell_type": "code",
   "execution_count": null,
   "metadata": {
    "collapsed": false
   },
   "outputs": [],
   "source": [
    "plt.plot(t_8000, x12_8000s, '-o')\n",
    "plt.title('Combined Sine Waves, f1 = {0}Hz, f2 = {1}Hz, Sampling Rate = {1}Hz'.format(f1,f2,fs1));\n",
    "plt.xlabel('t (s)');\n",
    "plt.ylabel('x1(t) and x2(t)');\n",
    "plt.xlim(1,1.01)\n",
    "plt.grid(1)"
   ]
  },
  {
   "cell_type": "code",
   "execution_count": null,
   "metadata": {
    "collapsed": false
   },
   "outputs": [],
   "source": [
    "wav.write('tone_440_and_446.wav', fs1, x12_8000s)"
   ]
  },
  {
   "cell_type": "markdown",
   "metadata": {},
   "source": [
    "Listen to the above file on headphones. Do you hear a beat?"
   ]
  },
  {
   "cell_type": "code",
   "execution_count": null,
   "metadata": {
    "collapsed": false
   },
   "outputs": [],
   "source": []
  }
 ],
 "metadata": {
  "kernelspec": {
   "display_name": "Python 3",
   "language": "python",
   "name": "python3"
  },
  "language_info": {
   "codemirror_mode": {
    "name": "ipython",
    "version": 3
   },
   "file_extension": ".py",
   "mimetype": "text/x-python",
   "name": "python",
   "nbconvert_exporter": "python",
   "pygments_lexer": "ipython3",
   "version": "3.4.5"
  }
 },
 "nbformat": 4,
 "nbformat_minor": 0
}
