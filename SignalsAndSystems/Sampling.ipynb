{
 "cells": [
  {
   "cell_type": "markdown",
   "metadata": {},
   "source": [
    "# Sampling\n",
    "\n",
    "[Mauricio de Oliveira](http://control.ucsd.edu/mauricio)\n",
    "\n",
    "*September 2019*\n",
    "\n",
    "In this notebook you will generate waveforms and play them as audio files.\n",
    "\n",
    "We will explore different sampling rates as well as mono versus stereo files.\n",
    "\n",
    "## Load some packages"
   ]
  },
  {
   "cell_type": "code",
   "execution_count": null,
   "metadata": {
    "collapsed": true
   },
   "outputs": [],
   "source": [
    "import matplotlib.pyplot as plt\n",
    "import numpy as np\n",
    "import math\n",
    "import librosa"
   ]
  },
  {
   "cell_type": "markdown",
   "metadata": {},
   "source": [
    "## Generate some tones\n",
    "\n",
    "Let's start by generating a time base vector for T = 2s waveforms. We will do that at two sampling rates: fs1 = 8000Hz, t1, and fs2 = 16000Hz, t2."
   ]
  },
  {
   "cell_type": "code",
   "execution_count": null,
   "metadata": {
    "collapsed": true
   },
   "outputs": [],
   "source": [
    "T = 2.0\n",
    "\n",
    "fs1 = 8000\n",
    "t_8000 = np.arange(0., T, 1/fs1)\n",
    "\n",
    "fs2 = 16000\n",
    "t_16000 = np.arange(0., T, 1/fs2)"
   ]
  },
  {
   "cell_type": "markdown",
   "metadata": {},
   "source": [
    "We will use these vectors to generate two tones, one at f1 = 440 Hz, x1, and another at f2 = 446 Hz, x2."
   ]
  },
  {
   "cell_type": "code",
   "execution_count": null,
   "metadata": {
    "collapsed": true
   },
   "outputs": [],
   "source": [
    "f1 = 440.0\n",
    "A1 = .8\n",
    "phi1 = 0\n",
    "\n",
    "f2 = 446\n",
    "A2 = .8\n",
    "phi2 = np.pi*90/180"
   ]
  },
  {
   "cell_type": "markdown",
   "metadata": {},
   "source": [
    "First at fs = 8000Hz"
   ]
  },
  {
   "cell_type": "code",
   "execution_count": null,
   "metadata": {
    "collapsed": true
   },
   "outputs": [],
   "source": [
    "x1_8000 = A1*np.sin(2*np.pi*f1*t_8000+phi1)\n",
    "x2_8000 = A2*np.sin(2*np.pi*f2*t_8000+phi2)"
   ]
  },
  {
   "cell_type": "markdown",
   "metadata": {},
   "source": [
    "Then at fs = 16000Hz"
   ]
  },
  {
   "cell_type": "code",
   "execution_count": null,
   "metadata": {
    "collapsed": true
   },
   "outputs": [],
   "source": [
    "x1_16000 = A1*np.sin(2*np.pi*f1*t_16000+phi1)\n",
    "x2_16000 = A2*np.sin(2*np.pi*f2*t_16000+phi2)"
   ]
  },
  {
   "cell_type": "markdown",
   "metadata": {},
   "source": [
    "Let's plot to visualize the waveforms at 8000Hz"
   ]
  },
  {
   "cell_type": "code",
   "execution_count": null,
   "metadata": {},
   "outputs": [],
   "source": [
    "plt.plot(t_8000, x1_8000, '-o', t_8000, x2_8000, '-o')\n",
    "plt.title('Sine Waves, f1 = {0}Hz, f2 = {1}Hz, Sampling Rate = {2}Hz'.format(f1,f2,fs1));\n",
    "plt.xlabel('t (s)');\n",
    "plt.ylabel('x1(t) and x2(t)');\n",
    "plt.xlim(1,1.01)\n",
    "plt.grid(1)\n",
    "plt.show()"
   ]
  },
  {
   "cell_type": "markdown",
   "metadata": {},
   "source": [
    "Compare the waveforms sampled at 8000Hz versus 16000Hz"
   ]
  },
  {
   "cell_type": "code",
   "execution_count": null,
   "metadata": {},
   "outputs": [],
   "source": [
    "plt.plot(t_8000, x1_8000, '-o', t_16000, x2_16000, '-o')\n",
    "plt.title('Sine Waves, f1 = {0}Hz, Sampling Rate = {1}Hz, f2 = {2}Hz, Sampling Rate = {3}Hz'.format(f1,fs1,f2,fs2));\n",
    "plt.xlabel('t (s)');\n",
    "plt.ylabel('x1(t) and x2(t)');\n",
    "plt.xlim(1,1.01)\n",
    "plt.grid(1)\n",
    "plt.show()"
   ]
  },
  {
   "cell_type": "markdown",
   "metadata": {},
   "source": [
    "## Play the tones\n",
    "\n",
    "We will now play these tones"
   ]
  },
  {
   "cell_type": "code",
   "execution_count": null,
   "metadata": {
    "collapsed": true
   },
   "outputs": [],
   "source": [
    "import IPython.display as ipd"
   ]
  },
  {
   "cell_type": "markdown",
   "metadata": {},
   "source": [
    "First at fs = 8000Hz"
   ]
  },
  {
   "cell_type": "code",
   "execution_count": null,
   "metadata": {},
   "outputs": [],
   "source": [
    "ipd.Audio(x1_8000, rate=fs1)"
   ]
  },
  {
   "cell_type": "code",
   "execution_count": null,
   "metadata": {},
   "outputs": [],
   "source": [
    "ipd.Audio(x2_8000, rate=fs1)"
   ]
  },
  {
   "cell_type": "markdown",
   "metadata": {},
   "source": [
    "Then at fs = 16000Hz"
   ]
  },
  {
   "cell_type": "code",
   "execution_count": null,
   "metadata": {},
   "outputs": [],
   "source": [
    "ipd.Audio(x1_16000, rate=fs2)"
   ]
  },
  {
   "cell_type": "code",
   "execution_count": null,
   "metadata": {},
   "outputs": [],
   "source": [
    "ipd.Audio(x2_16000, rate=fs2)"
   ]
  },
  {
   "cell_type": "markdown",
   "metadata": {},
   "source": [
    "What if we make a mistake on the sampling rates?"
   ]
  },
  {
   "cell_type": "code",
   "execution_count": null,
   "metadata": {},
   "outputs": [],
   "source": [
    "ipd.Audio(x1_8000, rate=fs2)"
   ]
  },
  {
   "cell_type": "code",
   "execution_count": null,
   "metadata": {},
   "outputs": [],
   "source": [
    "ipd.Audio(x1_16000, rate=fs1)"
   ]
  },
  {
   "cell_type": "markdown",
   "metadata": {},
   "source": [
    "## Combining tones\n",
    "\n",
    "Let's us first combine the two tones by summing them up. In this part we will work only with signals at fs = 8000Hz"
   ]
  },
  {
   "cell_type": "code",
   "execution_count": null,
   "metadata": {
    "collapsed": true
   },
   "outputs": [],
   "source": [
    "x12_8000 = (x1_8000 + x2_8000)/2"
   ]
  },
  {
   "cell_type": "code",
   "execution_count": null,
   "metadata": {},
   "outputs": [],
   "source": [
    "plt.plot(t_8000, x12_8000, '-')\n",
    "plt.title('Combined Sine Waves, f1 = {0}Hz, f2 = {1}Hz, Sampling Rate = {2}Hz'.format(f1,f2,fs1));\n",
    "plt.xlabel('t (s)');\n",
    "plt.ylabel('x1(t) and x2(t)');\n",
    "plt.xlim(0.041,0.041+1./6)\n",
    "plt.grid(1)\n",
    "plt.show()"
   ]
  },
  {
   "cell_type": "markdown",
   "metadata": {},
   "source": [
    "Do you *see* the beat?"
   ]
  },
  {
   "cell_type": "code",
   "execution_count": null,
   "metadata": {},
   "outputs": [],
   "source": [
    "ipd.Audio(x12_8000, rate=fs1)"
   ]
  },
  {
   "cell_type": "markdown",
   "metadata": {},
   "source": [
    "Let's us now combine the two tones by placing each of them in one channel of a stereo signal."
   ]
  },
  {
   "cell_type": "code",
   "execution_count": null,
   "metadata": {},
   "outputs": [],
   "source": [
    "x12_8000s = np.vstack((x1_8000,x2_8000))\n",
    "ipd.Audio(x12_8000s, rate=fs1)"
   ]
  },
  {
   "cell_type": "markdown",
   "metadata": {},
   "source": [
    "Listen to the above file on headphones. Do you *hear* a beat?"
   ]
  },
  {
   "cell_type": "markdown",
   "metadata": {},
   "source": [
    "## Working with an audio file\n",
    "\n",
    "Let's us repeat this exercise with a music file.\n",
    "\n",
    "Upload your favorite song by dragging it and dropping on the notebook file manager, then change the name below to reflect the filename of the song.\n",
    "\n",
    "We will only load 20s of the song to make things faster."
   ]
  },
  {
   "cell_type": "code",
   "execution_count": null,
   "metadata": {},
   "outputs": [],
   "source": [
    "x1, fs = librosa.load('Stevie Wonder Superstition.mp3', mono=False, offset=20, duration=20)"
   ]
  },
  {
   "cell_type": "markdown",
   "metadata": {},
   "source": [
    "Visualize the samples that make up your song:"
   ]
  },
  {
   "cell_type": "code",
   "execution_count": null,
   "metadata": {},
   "outputs": [],
   "source": [
    "plt.plot(x1[:,11*fs:11*fs+round(.1* fs)].T, '.')\n",
    "plt.title('Sampling Rate = {0}Hz, Left and right channels'.format(fs));\n",
    "plt.xlabel('t (s)');\n",
    "plt.ylabel('x1(t)');\n",
    "plt.grid(1)\n",
    "plt.show()"
   ]
  },
  {
   "cell_type": "markdown",
   "metadata": {},
   "source": [
    "and play the song"
   ]
  },
  {
   "cell_type": "code",
   "execution_count": null,
   "metadata": {},
   "outputs": [],
   "source": [
    "ipd.Audio(x1, rate=fs)"
   ]
  }
 ],
 "metadata": {
  "kernelspec": {
   "display_name": "Python 3",
   "language": "python",
   "name": "python3"
  },
  "language_info": {
   "codemirror_mode": {
    "name": "ipython",
    "version": 3
   },
   "file_extension": ".py",
   "mimetype": "text/x-python",
   "name": "python",
   "nbconvert_exporter": "python",
   "pygments_lexer": "ipython3",
   "version": "3.6.3"
  }
 },
 "nbformat": 4,
 "nbformat_minor": 1
}
