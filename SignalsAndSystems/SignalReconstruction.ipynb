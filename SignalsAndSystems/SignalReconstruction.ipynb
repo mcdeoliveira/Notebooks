{
 "cells": [
  {
   "cell_type": "markdown",
   "metadata": {},
   "source": [
    "# Signal Reconstruction\n",
    "\n",
    "[Mauricio de Oliveira](http://control.ucsd.edu/mauricio)\n",
    "\n",
    "*September, 2019*\n",
    "\n",
    "Under certain conditions (see notebook on Aliasing) it is possible to *exactly* reconstruct a continuous signal from its samples. This is what you will explore in this notebook.\n",
    "\n",
    "## Load some libraries"
   ]
  },
  {
   "cell_type": "code",
   "execution_count": null,
   "metadata": {
    "collapsed": true
   },
   "outputs": [],
   "source": [
    "import matplotlib.pyplot as plt\n",
    "import numpy as np\n",
    "import math\n",
    "from scipy import signal\n",
    "import librosa\n",
    "import IPython.display as ipd"
   ]
  },
  {
   "cell_type": "markdown",
   "metadata": {},
   "source": [
    "Generate a sinusoidal tone at f1 = 3Hz, x1, with a duration of T = 10s sampled at fs1 = 1000Hz sampling rate. This sampling rate is significantly higher than the frequency of the tone, which will make it appear smooth. Use $\\cos$ to generate the waveform."
   ]
  },
  {
   "cell_type": "code",
   "execution_count": null,
   "metadata": {
    "collapsed": true
   },
   "outputs": [],
   "source": [
    "T = 10.0\n",
    "\n",
    "fs1 = 1000\n",
    "t_1000 = np.arange(0, T, 1/fs1)\n",
    "\n",
    "f1 = 3.0\n",
    "A1 = .8\n",
    "phi1 = np.pi*35/180\n",
    "\n",
    "x1_1000 = A1*np.cos(2*np.pi*f1*t_1000+phi1)"
   ]
  },
  {
   "cell_type": "markdown",
   "metadata": {},
   "source": [
    "Repeat with fs2 = 10Hz as the sampling rate and compare the two sets of samples. This choice is such that f1 = 3Hz is below the Nyquist frequency (see notebook on Aliasing)"
   ]
  },
  {
   "cell_type": "code",
   "execution_count": null,
   "metadata": {},
   "outputs": [],
   "source": [
    "fs2 = 10\n",
    "t_10 = np.arange(0, T, 1/fs2)\n",
    "\n",
    "x1_10 = A1*np.cos(2*np.pi*f1*t_10+phi1)\n",
    "\n",
    "plt.plot(t_1000, x1_1000, '-', t_10, x1_10, 'yo')\n",
    "plt.title('Sine Waves, f1 = {0}Hz, Sampling rates = {1}Hz and {2}Hz'.format(f1,fs1,fs2));\n",
    "plt.xlabel('t (s)');\n",
    "plt.ylabel('x1(t)');\n",
    "plt.xlim(0,2)\n",
    "plt.grid(1)\n",
    "plt.show()"
   ]
  },
  {
   "cell_type": "markdown",
   "metadata": {},
   "source": [
    "Plot only the samples at fs2 = 10Hz to see how they *do not* immediately suggest this is a sinusoidal signal!"
   ]
  },
  {
   "cell_type": "code",
   "execution_count": null,
   "metadata": {},
   "outputs": [],
   "source": [
    "plt.plot(t_10, x1_10, 'yo')\n",
    "plt.title('Sine Waves, f1 = {0}Hz, Sampling rate = {1}Hz'.format(f1,fs2));\n",
    "plt.xlabel('t (s)');\n",
    "plt.ylabel('x1(t)');\n",
    "plt.xlim(0,2)\n",
    "plt.grid(1)\n",
    "plt.show()"
   ]
  },
  {
   "cell_type": "markdown",
   "metadata": {},
   "source": [
    "In order to *exactly* reconstruct the continuos signal, $x(t)$, from its samples, $x(k T_s)$, where $T_s$ is the sampling period and $k$ is an integer, we can use the following formula:\n",
    "\n",
    "<center>\n",
    "$x(t) = \\sum_{k = -\\infty}^{\\infty} x(k T_s) \\operatorname{sinc}(t/Ts - k), \\qquad \\operatorname{sinc}(x) = \\displaystyle \\frac{\\sin{\\pi x}}{\\pi x},$\n",
    "</center>\n",
    "\n",
    "known as *Shannon interpolation formula*.\n",
    "\n",
    "There are two catches: first the formula adds an infinite number of samples, and second the continuous signal $\\operatorname{sinc}(t)$ is of infinite duration. If we use a finite ammount of samples and evaluate the signal $\\operatorname{sinc}$ on a finite interval we shall recover the function only approximatelly. In practice this is enough.\n",
    "\n",
    "This is implemented next as a for loop, where we use the higher sampling rate to emulate the continuous signal $\\operatorname{sinc}$:"
   ]
  },
  {
   "cell_type": "code",
   "execution_count": null,
   "metadata": {
    "collapsed": true
   },
   "outputs": [],
   "source": [
    "Ts2 = 1./fs2\n",
    "x1r_1000 = np.zeros(t_1000.shape)\n",
    "for k in range(len(x1_10)):\n",
    "    x1r_1000 = x1r_1000 + x1_10[k] * np.sinc((t_1000-k*Ts2)/Ts2)"
   ]
  },
  {
   "cell_type": "markdown",
   "metadata": {},
   "source": [
    "We compare the *original* signal with the one reconstructed:"
   ]
  },
  {
   "cell_type": "code",
   "execution_count": null,
   "metadata": {},
   "outputs": [],
   "source": [
    "plt.plot(t_1000, x1_1000, '-', t_1000, x1r_1000, '-')\n",
    "plt.title('Sampled Sine Waves, f1 = {0} Hz, and alias, Sampling rate {1} Hz'.format(f1,fs1));\n",
    "plt.xlabel('t (s)');\n",
    "plt.ylabel('x(t), xr(t)');\n",
    "plt.xlim(0,2)\n",
    "plt.grid(1)\n",
    "plt.show()"
   ]
  },
  {
   "cell_type": "markdown",
   "metadata": {},
   "source": [
    "Not too bad, with a bit of distortion at the edge."
   ]
  },
  {
   "cell_type": "markdown",
   "metadata": {},
   "source": [
    "## Rich Signals"
   ]
  },
  {
   "cell_type": "markdown",
   "metadata": {},
   "source": [
    "The reconstruction process for signals that are rich in higher harmonics is the same as in the case of a single tone. We illustrate it next for a sawtooth waveform. The distortions that occur in the reconstructed signal are not due to the reconstruction but due to alliasing (see Aliasing notebook)."
   ]
  },
  {
   "cell_type": "code",
   "execution_count": null,
   "metadata": {},
   "outputs": [],
   "source": [
    "N = 2**16\n",
    "f2 = 2\n",
    "x2_1000 = 2*((N*(.75-f2*t_1000) % N)/N - .5)\n",
    "x2_10 = 2*((N*(.75-f2*t_10) % N)/N - .5)\n",
    "\n",
    "plt.plot(t_1000, x2_1000, '-', t_10, x2_10, 'o')\n",
    "plt.title('Sawtooth Wave, f1 = {0} Hz, Sampling rate = {1}Hz'.format(f2,fs2));\n",
    "plt.xlabel('t (s)');\n",
    "plt.ylabel('x(t)');\n",
    "plt.xlim(0,2)\n",
    "plt.grid(1)\n",
    "plt.show()"
   ]
  },
  {
   "cell_type": "code",
   "execution_count": null,
   "metadata": {
    "collapsed": true
   },
   "outputs": [],
   "source": [
    "x2r_1000 = np.zeros(t_1000.shape)\n",
    "for k in range(len(t_10)):\n",
    "    x2r_1000 = x2r_1000 + x2_10[k] * np.sinc(fs2*t_1000-k)"
   ]
  },
  {
   "cell_type": "code",
   "execution_count": null,
   "metadata": {},
   "outputs": [],
   "source": [
    "plt.plot(t_1000, x2_1000, '-', t_1000, x2r_1000, '-')\n",
    "plt.title('Reconstructed Sawtooth Wave, f1 = {0} Hz, Sampling rate {1} Hz'.format(f2,fs2));\n",
    "plt.xlabel('t (s)');\n",
    "plt.ylabel('x(t), xr(t)');\n",
    "plt.xlim(0,2)\n",
    "plt.grid(1)\n",
    "plt.show()"
   ]
  },
  {
   "cell_type": "markdown",
   "metadata": {},
   "source": [
    "In ths case of rich signals the reconstruction is not as good. Besides the issue with the finite approximation of the Shannon formula, the rich signal violates a key assumption required for exact reconstruction: that the original signal be bandlimited. The triangular wave has an infinite number of harmonics."
   ]
  },
  {
   "cell_type": "markdown",
   "metadata": {},
   "source": [
    "## Zero-order holder reconstruction\n",
    "\n",
    "In practice, simpler interpolation schemes are used for signal reconstruction.\n",
    "\n",
    "A popular scheme is that of a zero-order-holder followed by a low-pass filter.\n",
    "\n",
    "The zero-order interpolation of the sawtooth signal can be constructed as follows:"
   ]
  },
  {
   "cell_type": "code",
   "execution_count": null,
   "metadata": {
    "collapsed": true
   },
   "outputs": [],
   "source": [
    "tt = np.vstack((t_10,t_10)).T.flatten()[1:]\n",
    "xx = np.vstack((x2_10,x2_10)).T.flatten()[:-1]\n",
    "x2r_1000 = np.interp(t_1000, tt, xx)"
   ]
  },
  {
   "cell_type": "code",
   "execution_count": null,
   "metadata": {},
   "outputs": [],
   "source": [
    "plt.plot(t_1000, x2_1000, '-', t_1000, x2r_1000, '-')\n",
    "plt.title('Reconstructed Sawtooth Wave, f1 = {0} Hz, Sampling rate {1} Hz'.format(f2,fs2));\n",
    "plt.xlabel('t (s)');\n",
    "plt.ylabel('x(t), xr(t)');\n",
    "plt.xlim(0,2)\n",
    "plt.grid(1)\n",
    "plt.show()"
   ]
  },
  {
   "cell_type": "markdown",
   "metadata": {},
   "source": [
    "The resulting signal can be made more smooth using a low-pass filter:"
   ]
  },
  {
   "cell_type": "code",
   "execution_count": null,
   "metadata": {
    "collapsed": true
   },
   "outputs": [],
   "source": [
    "fc = 4  # Cut-off frequency of the filter\n",
    "w = fc / (fs1 / 2) # Normalize the frequency\n",
    "b, a = signal.butter(5, w, 'low')\n",
    "x2rf_1000 = signal.filtfilt(b, a, x2r_1000)"
   ]
  },
  {
   "cell_type": "code",
   "execution_count": null,
   "metadata": {},
   "outputs": [],
   "source": [
    "plt.plot(t_1000, x2_1000, '-', t_1000, x2r_1000, '-', t_1000, x2rf_1000, '-')\n",
    "plt.title('Reconstructed Sawtooth Wave, f1 = {0} Hz, Sampling rate {1} Hz'.format(f2,fs2));\n",
    "plt.xlabel('t (s)');\n",
    "plt.ylabel('x(t), xr(t)');\n",
    "plt.xlim(0,2)\n",
    "plt.grid(1)\n",
    "plt.show()"
   ]
  },
  {
   "cell_type": "markdown",
   "metadata": {},
   "source": [
    "Let's us repeat this exercise with a music file.\n",
    "\n",
    "Upload your favorite song by dragging it and dropping on the notebook file manager, then change the name below to reflect the filename of the song. We will only load 20s of the song to make things faster. We will also work with a mono version of the song for the same reason."
   ]
  },
  {
   "cell_type": "code",
   "execution_count": null,
   "metadata": {},
   "outputs": [],
   "source": [
    "x1, fs = librosa.load('Stevie Wonder Superstition.mp3', mono=True, offset=20, duration=20)"
   ]
  },
  {
   "cell_type": "code",
   "execution_count": null,
   "metadata": {},
   "outputs": [],
   "source": [
    "plt.plot(x1[11*fs:11*fs+round(.005* fs)], '-')\n",
    "plt.title('Sampling Rate = {0}Hz, Mono'.format(fs));\n",
    "plt.xlabel('t (s)');\n",
    "plt.ylabel('x1(t)');\n",
    "plt.grid(1)\n",
    "plt.show()"
   ]
  },
  {
   "cell_type": "markdown",
   "metadata": {},
   "source": [
    "Play the song"
   ]
  },
  {
   "cell_type": "code",
   "execution_count": null,
   "metadata": {
    "scrolled": true
   },
   "outputs": [],
   "source": [
    "ipd.Audio(x1, rate=fs)"
   ]
  },
  {
   "cell_type": "markdown",
   "metadata": {},
   "source": [
    "We will now process this song by first subsampling the signal and then reconstructing the signal with a zero-order holder.\n",
    "\n",
    "Before subsampling we apply a low-pass filter to reduce the effects of aliasing.\n",
    "\n",
    "Subsampling will be done at the frequency `fss` so a low-pass filter will be aplied with a cut-off frequency of `fss/2`."
   ]
  },
  {
   "cell_type": "code",
   "execution_count": null,
   "metadata": {},
   "outputs": [],
   "source": [
    "N = 7\n",
    "fss = fs / N\n",
    "fc = fss / 2  # Cut-off frequency of the filter\n",
    "w = fc / (fs / 2) # Normalize the frequency\n",
    "b, a = signal.butter(5, w, 'low')\n",
    "x1f = signal.filtfilt(b, a, x1)"
   ]
  },
  {
   "cell_type": "markdown",
   "metadata": {},
   "source": [
    "Note how the filtered signal is *smoother* than the original signal:"
   ]
  },
  {
   "cell_type": "code",
   "execution_count": null,
   "metadata": {},
   "outputs": [],
   "source": [
    "dt = 0.008\n",
    "plt.plot(x1[11*fs:11*fs+round(dt*fs)], '-', x1f[11*fs:11*fs+round(dt*fs)], '-')\n",
    "plt.title('Sampling Rate = {0}Hz, Original and filtered'.format(fs));\n",
    "plt.xlabel('t (s)');\n",
    "plt.ylabel('x1(t)');\n",
    "plt.grid(1)\n",
    "plt.show()"
   ]
  },
  {
   "cell_type": "markdown",
   "metadata": {},
   "source": [
    "Now play the filtered signal. This is what the signal we will reconstruct later will be compared against. "
   ]
  },
  {
   "cell_type": "code",
   "execution_count": null,
   "metadata": {},
   "outputs": [],
   "source": [
    "ipd.Audio(x1f, rate=fs)"
   ]
  },
  {
   "cell_type": "markdown",
   "metadata": {},
   "source": [
    "We will now subsample the filtered signal"
   ]
  },
  {
   "cell_type": "code",
   "execution_count": null,
   "metadata": {},
   "outputs": [],
   "source": [
    "x1ss = x1f[::N]"
   ]
  },
  {
   "cell_type": "markdown",
   "metadata": {},
   "source": [
    "and reconstruct it using a zero-order holder as done above"
   ]
  },
  {
   "cell_type": "code",
   "execution_count": null,
   "metadata": {},
   "outputs": [],
   "source": [
    "T = len(x1) / fs\n",
    "tss = np.arange(0, T, 1/fss)\n",
    "t = np.arange(0, T, 1/fs)\n",
    "tt = np.vstack((tss,tss)).T.flatten()[1:]\n",
    "xx = np.vstack((x1ss,x1ss)).T.flatten()[:-1]\n",
    "x1zoh = np.interp(t, tt, xx)"
   ]
  },
  {
   "cell_type": "markdown",
   "metadata": {},
   "source": [
    "Compare the filtered signal with its sampled and zero-order hold version"
   ]
  },
  {
   "cell_type": "code",
   "execution_count": null,
   "metadata": {},
   "outputs": [],
   "source": [
    "dt = 0.008\n",
    "plt.plot(x1f[11*fs:11*fs+round(dt*fs)], '-', x1zoh[11*fs:11*fs+round(dt*fs)], '-')\n",
    "plt.title('Sampling Rate = {0}Hz, Filtered and ZOH'.format(fs));\n",
    "plt.xlabel('t (s)');\n",
    "plt.ylabel('x1(t)');\n",
    "plt.grid(1)\n",
    "plt.show()"
   ]
  },
  {
   "cell_type": "markdown",
   "metadata": {},
   "source": [
    "Playing the zero-order hold reconstruction directly results in a very rough sound because of the high-frequencies introduced by the discontinuities:"
   ]
  },
  {
   "cell_type": "code",
   "execution_count": null,
   "metadata": {
    "collapsed": true,
    "scrolled": true
   },
   "outputs": [],
   "source": [
    "ipd.Audio(x1zoh, rate=fs)"
   ]
  },
  {
   "cell_type": "markdown",
   "metadata": {},
   "source": [
    "Those are all but gone after filtering:"
   ]
  },
  {
   "cell_type": "code",
   "execution_count": null,
   "metadata": {
    "collapsed": true
   },
   "outputs": [],
   "source": [
    "x1zohf = signal.filtfilt(b, a, x1zoh)"
   ]
  },
  {
   "cell_type": "markdown",
   "metadata": {},
   "source": [
    "See how close the two signals are? Can you make sense of the small delay?"
   ]
  },
  {
   "cell_type": "code",
   "execution_count": null,
   "metadata": {},
   "outputs": [],
   "source": [
    "dt = 0.008\n",
    "plt.plot(x1f[11*fs:11*fs+round(dt*fs)], '-', x1zohf[11*fs:11*fs+round(dt*fs)], '-')\n",
    "plt.title('Sampling Rate = {0}Hz, Filtered and ZOH+filter'.format(fs));\n",
    "plt.xlabel('t (s)');\n",
    "plt.ylabel('x1(t)');\n",
    "plt.grid(1)\n",
    "plt.show()"
   ]
  },
  {
   "cell_type": "markdown",
   "metadata": {},
   "source": [
    "Play it for further delight:"
   ]
  },
  {
   "cell_type": "code",
   "execution_count": null,
   "metadata": {
    "collapsed": true
   },
   "outputs": [],
   "source": [
    "ipd.Audio(x1zohf, rate=fs)"
   ]
  }
 ],
 "metadata": {
  "kernelspec": {
   "display_name": "Python 3",
   "language": "python",
   "name": "python3"
  },
  "language_info": {
   "codemirror_mode": {
    "name": "ipython",
    "version": 3
   },
   "file_extension": ".py",
   "mimetype": "text/x-python",
   "name": "python",
   "nbconvert_exporter": "python",
   "pygments_lexer": "ipython3",
   "version": "3.6.3"
  }
 },
 "nbformat": 4,
 "nbformat_minor": 1
}
